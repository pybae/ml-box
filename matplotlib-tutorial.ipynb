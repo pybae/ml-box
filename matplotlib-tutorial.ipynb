{
 "cells": [
  {
   "cell_type": "code",
   "execution_count": 1,
   "metadata": {},
   "outputs": [],
   "source": [
    "import pandas as pd\n",
    "tweets = pd.read_csv(\"data/tweets.csv\")"
   ]
  },
  {
   "cell_type": "code",
   "execution_count": 2,
   "metadata": {},
   "outputs": [
    {
     "data": {
      "text/html": [
       "<div>\n",
       "<style scoped>\n",
       "    .dataframe tbody tr th:only-of-type {\n",
       "        vertical-align: middle;\n",
       "    }\n",
       "\n",
       "    .dataframe tbody tr th {\n",
       "        vertical-align: top;\n",
       "    }\n",
       "\n",
       "    .dataframe thead th {\n",
       "        text-align: right;\n",
       "    }\n",
       "</style>\n",
       "<table border=\"1\" class=\"dataframe\">\n",
       "  <thead>\n",
       "    <tr style=\"text-align: right;\">\n",
       "      <th></th>\n",
       "      <th>id</th>\n",
       "      <th>id_str</th>\n",
       "      <th>user_location</th>\n",
       "      <th>user_bg_color</th>\n",
       "      <th>retweet_count</th>\n",
       "      <th>user_name</th>\n",
       "      <th>polarity</th>\n",
       "      <th>created</th>\n",
       "      <th>geo</th>\n",
       "      <th>user_description</th>\n",
       "      <th>user_created</th>\n",
       "      <th>user_followers</th>\n",
       "      <th>coordinates</th>\n",
       "      <th>subjectivity</th>\n",
       "      <th>text</th>\n",
       "    </tr>\n",
       "  </thead>\n",
       "  <tbody>\n",
       "    <tr>\n",
       "      <th>0</th>\n",
       "      <td>1</td>\n",
       "      <td>729828033092149248</td>\n",
       "      <td>Wheeling WV</td>\n",
       "      <td>022330</td>\n",
       "      <td>0</td>\n",
       "      <td>Jaybo26003</td>\n",
       "      <td>0.00</td>\n",
       "      <td>2016-05-10T00:18:57</td>\n",
       "      <td>NaN</td>\n",
       "      <td>NaN</td>\n",
       "      <td>2011-11-17T02:45:42</td>\n",
       "      <td>39</td>\n",
       "      <td>NaN</td>\n",
       "      <td>0.0</td>\n",
       "      <td>Make a difference vote! WV Bernie Sanders Coul...</td>\n",
       "    </tr>\n",
       "    <tr>\n",
       "      <th>1</th>\n",
       "      <td>2</td>\n",
       "      <td>729828033092161537</td>\n",
       "      <td>NaN</td>\n",
       "      <td>C0DEED</td>\n",
       "      <td>0</td>\n",
       "      <td>brittttany_ns</td>\n",
       "      <td>0.15</td>\n",
       "      <td>2016-05-10T00:18:57</td>\n",
       "      <td>NaN</td>\n",
       "      <td>18 // PSJAN</td>\n",
       "      <td>2012-12-24T17:33:12</td>\n",
       "      <td>1175</td>\n",
       "      <td>NaN</td>\n",
       "      <td>0.1</td>\n",
       "      <td>RT @HlPHOPNEWS: T.I. says if Donald Trump wins...</td>\n",
       "    </tr>\n",
       "    <tr>\n",
       "      <th>2</th>\n",
       "      <td>3</td>\n",
       "      <td>729828033566224384</td>\n",
       "      <td>NaN</td>\n",
       "      <td>C0DEED</td>\n",
       "      <td>0</td>\n",
       "      <td>JeffriesLori</td>\n",
       "      <td>0.00</td>\n",
       "      <td>2016-05-10T00:18:57</td>\n",
       "      <td>NaN</td>\n",
       "      <td>NaN</td>\n",
       "      <td>2012-10-11T14:29:59</td>\n",
       "      <td>42</td>\n",
       "      <td>NaN</td>\n",
       "      <td>0.0</td>\n",
       "      <td>You have no one to blame but yourselves if Tru...</td>\n",
       "    </tr>\n",
       "    <tr>\n",
       "      <th>3</th>\n",
       "      <td>4</td>\n",
       "      <td>729828033893302272</td>\n",
       "      <td>global</td>\n",
       "      <td>C0DEED</td>\n",
       "      <td>0</td>\n",
       "      <td>WhorunsGOVs</td>\n",
       "      <td>0.00</td>\n",
       "      <td>2016-05-10T00:18:57</td>\n",
       "      <td>NaN</td>\n",
       "      <td>Get Latest Global Political news as they unfold</td>\n",
       "      <td>2014-02-16T07:34:24</td>\n",
       "      <td>290</td>\n",
       "      <td>NaN</td>\n",
       "      <td>0.0</td>\n",
       "      <td>'Ruin the rest of their lives': Donald Trump c...</td>\n",
       "    </tr>\n",
       "    <tr>\n",
       "      <th>4</th>\n",
       "      <td>5</td>\n",
       "      <td>729828034178482177</td>\n",
       "      <td>California, USA</td>\n",
       "      <td>131516</td>\n",
       "      <td>0</td>\n",
       "      <td>BJCG0830</td>\n",
       "      <td>0.00</td>\n",
       "      <td>2016-05-10T00:18:57</td>\n",
       "      <td>NaN</td>\n",
       "      <td>Queer Latino invoking his 1st amendment privil...</td>\n",
       "      <td>2009-03-21T01:43:26</td>\n",
       "      <td>354</td>\n",
       "      <td>NaN</td>\n",
       "      <td>0.0</td>\n",
       "      <td>RT @elianayjohnson: Per source, GOP megadonor ...</td>\n",
       "    </tr>\n",
       "  </tbody>\n",
       "</table>\n",
       "</div>"
      ],
      "text/plain": [
       "   id              id_str    user_location user_bg_color  retweet_count  \\\n",
       "0   1  729828033092149248      Wheeling WV        022330              0   \n",
       "1   2  729828033092161537              NaN        C0DEED              0   \n",
       "2   3  729828033566224384              NaN        C0DEED              0   \n",
       "3   4  729828033893302272           global        C0DEED              0   \n",
       "4   5  729828034178482177  California, USA        131516              0   \n",
       "\n",
       "       user_name  polarity              created  geo  \\\n",
       "0     Jaybo26003      0.00  2016-05-10T00:18:57  NaN   \n",
       "1  brittttany_ns      0.15  2016-05-10T00:18:57  NaN   \n",
       "2   JeffriesLori      0.00  2016-05-10T00:18:57  NaN   \n",
       "3    WhorunsGOVs      0.00  2016-05-10T00:18:57  NaN   \n",
       "4       BJCG0830      0.00  2016-05-10T00:18:57  NaN   \n",
       "\n",
       "                                    user_description         user_created  \\\n",
       "0                                                NaN  2011-11-17T02:45:42   \n",
       "1                                        18 // PSJAN  2012-12-24T17:33:12   \n",
       "2                                                NaN  2012-10-11T14:29:59   \n",
       "3    Get Latest Global Political news as they unfold  2014-02-16T07:34:24   \n",
       "4  Queer Latino invoking his 1st amendment privil...  2009-03-21T01:43:26   \n",
       "\n",
       "   user_followers coordinates  subjectivity  \\\n",
       "0              39         NaN           0.0   \n",
       "1            1175         NaN           0.1   \n",
       "2              42         NaN           0.0   \n",
       "3             290         NaN           0.0   \n",
       "4             354         NaN           0.0   \n",
       "\n",
       "                                                text  \n",
       "0  Make a difference vote! WV Bernie Sanders Coul...  \n",
       "1  RT @HlPHOPNEWS: T.I. says if Donald Trump wins...  \n",
       "2  You have no one to blame but yourselves if Tru...  \n",
       "3  'Ruin the rest of their lives': Donald Trump c...  \n",
       "4  RT @elianayjohnson: Per source, GOP megadonor ...  "
      ]
     },
     "execution_count": 2,
     "metadata": {},
     "output_type": "execute_result"
    }
   ],
   "source": [
    "tweets.head()"
   ]
  },
  {
   "cell_type": "code",
   "execution_count": 3,
   "metadata": {},
   "outputs": [],
   "source": [
    "head = tweets.head()\n",
    "def get_candidates(row):\n",
    "    candidates = []\n",
    "    text = row[\"text\"].lower()\n",
    "    if \"clinton\" in text or \"hillary\" in text:\n",
    "        candidates.append(\"clinton\")\n",
    "    if \"trump\" in text or \"donald\" in text:\n",
    "        candidates.append(\"trump\")\n",
    "    if \"sanders\" in text or \"bernie\" in text:\n",
    "        candidates.append(\"sanders\")\n",
    "    return \",\".join(candidates)\n",
    "\n",
    "tweets[\"candidate\"] = tweets.apply(get_candidates,axis=1)"
   ]
  },
  {
   "cell_type": "code",
   "execution_count": 4,
   "metadata": {},
   "outputs": [
    {
     "data": {
      "text/html": [
       "<div>\n",
       "<style scoped>\n",
       "    .dataframe tbody tr th:only-of-type {\n",
       "        vertical-align: middle;\n",
       "    }\n",
       "\n",
       "    .dataframe tbody tr th {\n",
       "        vertical-align: top;\n",
       "    }\n",
       "\n",
       "    .dataframe thead th {\n",
       "        text-align: right;\n",
       "    }\n",
       "</style>\n",
       "<table border=\"1\" class=\"dataframe\">\n",
       "  <thead>\n",
       "    <tr style=\"text-align: right;\">\n",
       "      <th></th>\n",
       "      <th>id</th>\n",
       "      <th>id_str</th>\n",
       "      <th>user_location</th>\n",
       "      <th>user_bg_color</th>\n",
       "      <th>retweet_count</th>\n",
       "      <th>user_name</th>\n",
       "      <th>polarity</th>\n",
       "      <th>created</th>\n",
       "      <th>geo</th>\n",
       "      <th>user_description</th>\n",
       "      <th>user_created</th>\n",
       "      <th>user_followers</th>\n",
       "      <th>coordinates</th>\n",
       "      <th>subjectivity</th>\n",
       "      <th>text</th>\n",
       "      <th>candidate</th>\n",
       "    </tr>\n",
       "  </thead>\n",
       "  <tbody>\n",
       "    <tr>\n",
       "      <th>0</th>\n",
       "      <td>1</td>\n",
       "      <td>729828033092149248</td>\n",
       "      <td>Wheeling WV</td>\n",
       "      <td>022330</td>\n",
       "      <td>0</td>\n",
       "      <td>Jaybo26003</td>\n",
       "      <td>0.000000</td>\n",
       "      <td>2016-05-10T00:18:57</td>\n",
       "      <td>NaN</td>\n",
       "      <td>NaN</td>\n",
       "      <td>2011-11-17T02:45:42</td>\n",
       "      <td>39</td>\n",
       "      <td>NaN</td>\n",
       "      <td>0.000000</td>\n",
       "      <td>Make a difference vote! WV Bernie Sanders Coul...</td>\n",
       "      <td>clinton,sanders</td>\n",
       "    </tr>\n",
       "    <tr>\n",
       "      <th>1</th>\n",
       "      <td>2</td>\n",
       "      <td>729828033092161537</td>\n",
       "      <td>NaN</td>\n",
       "      <td>C0DEED</td>\n",
       "      <td>0</td>\n",
       "      <td>brittttany_ns</td>\n",
       "      <td>0.150000</td>\n",
       "      <td>2016-05-10T00:18:57</td>\n",
       "      <td>NaN</td>\n",
       "      <td>18 // PSJAN</td>\n",
       "      <td>2012-12-24T17:33:12</td>\n",
       "      <td>1175</td>\n",
       "      <td>NaN</td>\n",
       "      <td>0.100000</td>\n",
       "      <td>RT @HlPHOPNEWS: T.I. says if Donald Trump wins...</td>\n",
       "      <td>trump</td>\n",
       "    </tr>\n",
       "    <tr>\n",
       "      <th>2</th>\n",
       "      <td>3</td>\n",
       "      <td>729828033566224384</td>\n",
       "      <td>NaN</td>\n",
       "      <td>C0DEED</td>\n",
       "      <td>0</td>\n",
       "      <td>JeffriesLori</td>\n",
       "      <td>0.000000</td>\n",
       "      <td>2016-05-10T00:18:57</td>\n",
       "      <td>NaN</td>\n",
       "      <td>NaN</td>\n",
       "      <td>2012-10-11T14:29:59</td>\n",
       "      <td>42</td>\n",
       "      <td>NaN</td>\n",
       "      <td>0.000000</td>\n",
       "      <td>You have no one to blame but yourselves if Tru...</td>\n",
       "      <td>trump</td>\n",
       "    </tr>\n",
       "    <tr>\n",
       "      <th>3</th>\n",
       "      <td>4</td>\n",
       "      <td>729828033893302272</td>\n",
       "      <td>global</td>\n",
       "      <td>C0DEED</td>\n",
       "      <td>0</td>\n",
       "      <td>WhorunsGOVs</td>\n",
       "      <td>0.000000</td>\n",
       "      <td>2016-05-10T00:18:57</td>\n",
       "      <td>NaN</td>\n",
       "      <td>Get Latest Global Political news as they unfold</td>\n",
       "      <td>2014-02-16T07:34:24</td>\n",
       "      <td>290</td>\n",
       "      <td>NaN</td>\n",
       "      <td>0.000000</td>\n",
       "      <td>'Ruin the rest of their lives': Donald Trump c...</td>\n",
       "      <td>trump</td>\n",
       "    </tr>\n",
       "    <tr>\n",
       "      <th>4</th>\n",
       "      <td>5</td>\n",
       "      <td>729828034178482177</td>\n",
       "      <td>California, USA</td>\n",
       "      <td>131516</td>\n",
       "      <td>0</td>\n",
       "      <td>BJCG0830</td>\n",
       "      <td>0.000000</td>\n",
       "      <td>2016-05-10T00:18:57</td>\n",
       "      <td>NaN</td>\n",
       "      <td>Queer Latino invoking his 1st amendment privil...</td>\n",
       "      <td>2009-03-21T01:43:26</td>\n",
       "      <td>354</td>\n",
       "      <td>NaN</td>\n",
       "      <td>0.000000</td>\n",
       "      <td>RT @elianayjohnson: Per source, GOP megadonor ...</td>\n",
       "      <td>trump</td>\n",
       "    </tr>\n",
       "    <tr>\n",
       "      <th>...</th>\n",
       "      <td>...</td>\n",
       "      <td>...</td>\n",
       "      <td>...</td>\n",
       "      <td>...</td>\n",
       "      <td>...</td>\n",
       "      <td>...</td>\n",
       "      <td>...</td>\n",
       "      <td>...</td>\n",
       "      <td>...</td>\n",
       "      <td>...</td>\n",
       "      <td>...</td>\n",
       "      <td>...</td>\n",
       "      <td>...</td>\n",
       "      <td>...</td>\n",
       "      <td>...</td>\n",
       "      <td>...</td>\n",
       "    </tr>\n",
       "    <tr>\n",
       "      <th>237475</th>\n",
       "      <td>237476</td>\n",
       "      <td>730091164498575365</td>\n",
       "      <td>Karachi</td>\n",
       "      <td>C0DEED</td>\n",
       "      <td>0</td>\n",
       "      <td>DHQLounge</td>\n",
       "      <td>-0.035714</td>\n",
       "      <td>2016-05-10T17:44:32</td>\n",
       "      <td>NaN</td>\n",
       "      <td>Its all about Digital World!</td>\n",
       "      <td>2013-12-20T11:20:21</td>\n",
       "      <td>558</td>\n",
       "      <td>NaN</td>\n",
       "      <td>0.607143</td>\n",
       "      <td>#Dating site pairs Americans fleeing a possibl...</td>\n",
       "      <td>trump</td>\n",
       "    </tr>\n",
       "    <tr>\n",
       "      <th>237476</th>\n",
       "      <td>237477</td>\n",
       "      <td>730091164779454464</td>\n",
       "      <td>NaN</td>\n",
       "      <td>C0DEED</td>\n",
       "      <td>0</td>\n",
       "      <td>MguzmanMichele</td>\n",
       "      <td>0.000000</td>\n",
       "      <td>2016-05-10T17:44:32</td>\n",
       "      <td>NaN</td>\n",
       "      <td>NaN</td>\n",
       "      <td>2015-09-11T15:31:36</td>\n",
       "      <td>87</td>\n",
       "      <td>NaN</td>\n",
       "      <td>0.000000</td>\n",
       "      <td>RT @lea_ejanda: Bernie Sanders Sacramento, Cal...</td>\n",
       "      <td>sanders</td>\n",
       "    </tr>\n",
       "    <tr>\n",
       "      <th>237477</th>\n",
       "      <td>237478</td>\n",
       "      <td>730091165052080128</td>\n",
       "      <td>Melbourne</td>\n",
       "      <td>C0DEED</td>\n",
       "      <td>0</td>\n",
       "      <td>RaisingHopeAust</td>\n",
       "      <td>-0.316667</td>\n",
       "      <td>2016-05-10T17:44:32</td>\n",
       "      <td>NaN</td>\n",
       "      <td>Study conflict zones, analysis, politics, no a...</td>\n",
       "      <td>2011-04-09T02:04:10</td>\n",
       "      <td>530</td>\n",
       "      <td>NaN</td>\n",
       "      <td>0.516667</td>\n",
       "      <td>RT @ShaunKing: DISGUSTING.\\n\\nA Trump supporti...</td>\n",
       "      <td>trump,sanders</td>\n",
       "    </tr>\n",
       "    <tr>\n",
       "      <th>237478</th>\n",
       "      <td>237479</td>\n",
       "      <td>730091165157105665</td>\n",
       "      <td>Petal, MS/Oxford, MS</td>\n",
       "      <td>C0DEED</td>\n",
       "      <td>0</td>\n",
       "      <td>CoonandFriends3</td>\n",
       "      <td>0.011111</td>\n",
       "      <td>2016-05-10T17:44:32</td>\n",
       "      <td>NaN</td>\n",
       "      <td>UM | Secy of @YoungDemsMS | Pres of @um_democr...</td>\n",
       "      <td>2012-01-19T03:43:47</td>\n",
       "      <td>870</td>\n",
       "      <td>NaN</td>\n",
       "      <td>0.288889</td>\n",
       "      <td>RT @MayorofLondon: Trump's ignorant view of Is...</td>\n",
       "      <td>trump</td>\n",
       "    </tr>\n",
       "    <tr>\n",
       "      <th>237479</th>\n",
       "      <td>237480</td>\n",
       "      <td>730091163080896512</td>\n",
       "      <td>NaN</td>\n",
       "      <td>FDF7D5</td>\n",
       "      <td>0</td>\n",
       "      <td>1230WSOK</td>\n",
       "      <td>0.136364</td>\n",
       "      <td>2016-05-10T17:44:32</td>\n",
       "      <td>NaN</td>\n",
       "      <td>NaN</td>\n",
       "      <td>2009-11-11T20:20:09</td>\n",
       "      <td>93</td>\n",
       "      <td>NaN</td>\n",
       "      <td>0.454545</td>\n",
       "      <td>New Poll: Trump Leads In Ohio, Tied With Hilla...</td>\n",
       "      <td>clinton,trump</td>\n",
       "    </tr>\n",
       "  </tbody>\n",
       "</table>\n",
       "<p>237480 rows × 16 columns</p>\n",
       "</div>"
      ],
      "text/plain": [
       "            id              id_str         user_location user_bg_color  \\\n",
       "0            1  729828033092149248           Wheeling WV        022330   \n",
       "1            2  729828033092161537                   NaN        C0DEED   \n",
       "2            3  729828033566224384                   NaN        C0DEED   \n",
       "3            4  729828033893302272                global        C0DEED   \n",
       "4            5  729828034178482177       California, USA        131516   \n",
       "...        ...                 ...                   ...           ...   \n",
       "237475  237476  730091164498575365               Karachi        C0DEED   \n",
       "237476  237477  730091164779454464                   NaN        C0DEED   \n",
       "237477  237478  730091165052080128             Melbourne        C0DEED   \n",
       "237478  237479  730091165157105665  Petal, MS/Oxford, MS        C0DEED   \n",
       "237479  237480  730091163080896512                   NaN        FDF7D5   \n",
       "\n",
       "        retweet_count        user_name  polarity              created  geo  \\\n",
       "0                   0       Jaybo26003  0.000000  2016-05-10T00:18:57  NaN   \n",
       "1                   0    brittttany_ns  0.150000  2016-05-10T00:18:57  NaN   \n",
       "2                   0     JeffriesLori  0.000000  2016-05-10T00:18:57  NaN   \n",
       "3                   0      WhorunsGOVs  0.000000  2016-05-10T00:18:57  NaN   \n",
       "4                   0         BJCG0830  0.000000  2016-05-10T00:18:57  NaN   \n",
       "...               ...              ...       ...                  ...  ...   \n",
       "237475              0        DHQLounge -0.035714  2016-05-10T17:44:32  NaN   \n",
       "237476              0   MguzmanMichele  0.000000  2016-05-10T17:44:32  NaN   \n",
       "237477              0  RaisingHopeAust -0.316667  2016-05-10T17:44:32  NaN   \n",
       "237478              0  CoonandFriends3  0.011111  2016-05-10T17:44:32  NaN   \n",
       "237479              0         1230WSOK  0.136364  2016-05-10T17:44:32  NaN   \n",
       "\n",
       "                                         user_description  \\\n",
       "0                                                     NaN   \n",
       "1                                             18 // PSJAN   \n",
       "2                                                     NaN   \n",
       "3         Get Latest Global Political news as they unfold   \n",
       "4       Queer Latino invoking his 1st amendment privil...   \n",
       "...                                                   ...   \n",
       "237475                       Its all about Digital World!   \n",
       "237476                                                NaN   \n",
       "237477  Study conflict zones, analysis, politics, no a...   \n",
       "237478  UM | Secy of @YoungDemsMS | Pres of @um_democr...   \n",
       "237479                                                NaN   \n",
       "\n",
       "               user_created  user_followers coordinates  subjectivity  \\\n",
       "0       2011-11-17T02:45:42              39         NaN      0.000000   \n",
       "1       2012-12-24T17:33:12            1175         NaN      0.100000   \n",
       "2       2012-10-11T14:29:59              42         NaN      0.000000   \n",
       "3       2014-02-16T07:34:24             290         NaN      0.000000   \n",
       "4       2009-03-21T01:43:26             354         NaN      0.000000   \n",
       "...                     ...             ...         ...           ...   \n",
       "237475  2013-12-20T11:20:21             558         NaN      0.607143   \n",
       "237476  2015-09-11T15:31:36              87         NaN      0.000000   \n",
       "237477  2011-04-09T02:04:10             530         NaN      0.516667   \n",
       "237478  2012-01-19T03:43:47             870         NaN      0.288889   \n",
       "237479  2009-11-11T20:20:09              93         NaN      0.454545   \n",
       "\n",
       "                                                     text        candidate  \n",
       "0       Make a difference vote! WV Bernie Sanders Coul...  clinton,sanders  \n",
       "1       RT @HlPHOPNEWS: T.I. says if Donald Trump wins...            trump  \n",
       "2       You have no one to blame but yourselves if Tru...            trump  \n",
       "3       'Ruin the rest of their lives': Donald Trump c...            trump  \n",
       "4       RT @elianayjohnson: Per source, GOP megadonor ...            trump  \n",
       "...                                                   ...              ...  \n",
       "237475  #Dating site pairs Americans fleeing a possibl...            trump  \n",
       "237476  RT @lea_ejanda: Bernie Sanders Sacramento, Cal...          sanders  \n",
       "237477  RT @ShaunKing: DISGUSTING.\\n\\nA Trump supporti...    trump,sanders  \n",
       "237478  RT @MayorofLondon: Trump's ignorant view of Is...            trump  \n",
       "237479  New Poll: Trump Leads In Ohio, Tied With Hilla...    clinton,trump  \n",
       "\n",
       "[237480 rows x 16 columns]"
      ]
     },
     "execution_count": 4,
     "metadata": {},
     "output_type": "execute_result"
    }
   ],
   "source": [
    "tweets"
   ]
  },
  {
   "cell_type": "code",
   "execution_count": 6,
   "metadata": {},
   "outputs": [],
   "source": [
    "%matplotlib inline"
   ]
  },
  {
   "cell_type": "code",
   "execution_count": 9,
   "metadata": {},
   "outputs": [],
   "source": [
    "import matplotlib.pyplot as plt\n",
    "import numpy as np"
   ]
  },
  {
   "cell_type": "code",
   "execution_count": 22,
   "metadata": {},
   "outputs": [],
   "source": [
    "counts = tweets[\"candidate\"].value_counts()"
   ]
  },
  {
   "cell_type": "code",
   "execution_count": 25,
   "metadata": {},
   "outputs": [
    {
     "data": {
      "image/png": "[encoded data removed]",
      "text/plain": [
       "<Figure size 432x288 with 1 Axes>"
      ]
     },
     "metadata": {
      "needs_background": "light"
     },
     "output_type": "display_data"
    },
    {
     "data": {
      "text/plain": [
       "trump                    119998\n",
       "clinton,trump             30521\n",
       "                          25429\n",
       "sanders                   25351\n",
       "clinton                   22746\n",
       "clinton,sanders            6044\n",
       "clinton,trump,sanders      4219\n",
       "trump,sanders              3172\n",
       "Name: candidate, dtype: int64"
      ]
     },
     "execution_count": 25,
     "metadata": {},
     "output_type": "execute_result"
    }
   ],
   "source": [
    "plt.bar(range(len(counts)), counts)\n",
    "plt.show()\n",
    "counts"
   ]
  },
  {
   "cell_type": "code",
   "execution_count": 27,
   "metadata": {},
   "outputs": [
    {
     "data": {
      "image/png": "[encoded data removed]",
      "text/plain": [
       "<Figure size 432x288 with 1 Axes>"
      ]
     },
     "metadata": {
      "needs_background": "light"
     },
     "output_type": "display_data"
    }
   ],
   "source": [
    "from datetime import datetime\n",
    "tweets[\"created\"] = pd.to_datetime(tweets[\"created\"])\n",
    "tweets[\"user_created\"] = pd.to_datetime(tweets[\"user_created\"])\n",
    "tweets[\"user_age\"] = tweets[\"user_created\"].apply(lambda x: (datetime.now() - x).total_seconds() / 3600 / 24 / 365)\n",
    "plt.hist(tweets[\"user_age\"])\n",
    "plt.show()"
   ]
  },
  {
   "cell_type": "code",
   "execution_count": 29,
   "metadata": {},
   "outputs": [
    {
     "data": {
      "image/png": "[encoded data removed]",
      "text/plain": [
       "<Figure size 432x288 with 1 Axes>"
      ]
     },
     "metadata": {
      "needs_background": "light"
     },
     "output_type": "display_data"
    }
   ],
   "source": [
    "plt.hist(tweets[\"user_age\"])\n",
    "plt.title(\"Tweets mentioning candidates\")\n",
    "plt.xlabel(\"Twitter account age in years\")\n",
    "plt.ylabel(\"# of tweets\")\n",
    "plt.show()"
   ]
  },
  {
   "cell_type": "code",
   "execution_count": 31,
   "metadata": {},
   "outputs": [
    {
     "data": {
      "image/png": "[encoded data removed]",
      "text/plain": [
       "<Figure size 432x288 with 1 Axes>"
      ]
     },
     "metadata": {
      "needs_background": "light"
     },
     "output_type": "display_data"
    }
   ],
   "source": [
    "cl_tweets = tweets[\"user_age\"][tweets[\"candidate\"] == \"clinton\"]\n",
    "sa_tweets = tweets[\"user_age\"][tweets[\"candidate\"] == \"sanders\"]\n",
    "tr_tweets = tweets[\"user_age\"][tweets[\"candidate\"] == \"trump\"]\n",
    "plt.hist([\n",
    "    cl_tweets,\n",
    "    sa_tweets,\n",
    "    tr_tweets\n",
    "],\n",
    "    stacked = True,\n",
    "    label = [\"clinton\", \"sanders\", \"trump\"])\n",
    "plt.legend()\n",
    "plt.show()"
   ]
  },
  {
   "cell_type": "code",
   "execution_count": 32,
   "metadata": {},
   "outputs": [],
   "source": [
    "import matplotlib.colors as colors\n",
    "tweets[\"red\"] = tweets[\"user_bg_color\"].apply(lambda x: colors.hex2color('#{0}'.format(x))[0])\n",
    "tweets[\"blue\"] = tweets[\"user_bg_color\"].apply(lambda x: colors.hex2color('#{0}'.format(x))[2])"
   ]
  },
  {
   "cell_type": "code",
   "execution_count": 34,
   "metadata": {},
   "outputs": [
    {
     "data": {
      "image/png": "[encoded data removed]",
      "text/plain": [
       "<Figure size 432x288 with 4 Axes>"
      ]
     },
     "metadata": {
      "needs_background": "light"
     },
     "output_type": "display_data"
    }
   ],
   "source": [
    "fig, axes = plt.subplots(nrows=2, ncols=2)\n",
    "ax0, ax1, ax2, ax3 = axes.flat\n",
    "\n",
    "ax0.hist(tweets[\"red\"])\n",
    "ax0.set_title('Red in backgrounds')\n",
    "\n",
    "ax1.hist(tweets[\"red\"][tweets[\"candidate\"] == \"trump\"].values)\n",
    "ax1.set_title('Red in Trump tweeters')\n",
    "\n",
    "ax2.hist(tweets[\"blue\"])\n",
    "ax2.set_title('Blue in backgrounds')\n",
    "\n",
    "ax3.hist(tweets[\"blue\"][tweets[\"candidate\"] == \"trump\"].values)\n",
    "ax3.set_title('Blue in Trump tweeters')\n",
    "plt.tight_layout()\n",
    "plt.show()"
   ]
  },
  {
   "cell_type": "code",
   "execution_count": 35,
   "metadata": {},
   "outputs": [
    {
     "data": {
      "text/plain": [
       "C0DEED    108977\n",
       "000000     31119\n",
       "F5F8FA     25597\n",
       "131516      7731\n",
       "1A1B1F      5059\n",
       "           ...  \n",
       "CC933D         1\n",
       "BEA379         1\n",
       "E0D614         1\n",
       "C9FFF6         1\n",
       "213F58         1\n",
       "Name: user_bg_color, Length: 6970, dtype: int64"
      ]
     },
     "execution_count": 35,
     "metadata": {},
     "output_type": "execute_result"
    }
   ],
   "source": [
    "tweets[\"user_bg_color\"].value_counts()"
   ]
  },
  {
   "cell_type": "code",
   "execution_count": 36,
   "metadata": {},
   "outputs": [
    {
     "data": {
      "image/png": "[encoded data removed]",
      "text/plain": [
       "<Figure size 432x288 with 4 Axes>"
      ]
     },
     "metadata": {
      "needs_background": "light"
     },
     "output_type": "display_data"
    }
   ],
   "source": [
    "tc = tweets[~tweets[\"user_bg_color\"].isin([\"C0DEED\", \"000000\", \"F5F8FA\"])]\n",
    "\n",
    "def create_plot(data):\n",
    "    fig, axes = plt.subplots(nrows=2, ncols=2)\n",
    "    ax0, ax1, ax2, ax3 = axes.flat\n",
    "\n",
    "    ax0.hist(data[\"red\"])\n",
    "    ax0.set_title('Red in backgrounds')\n",
    "\n",
    "    ax1.hist(data[\"red\"][data[\"candidate\"] == \"trump\"].values)\n",
    "    ax1.set_title('Red in Trump tweets')\n",
    "\n",
    "    ax2.hist(data[\"blue\"])\n",
    "    ax2.set_title('Blue in backgrounds')\n",
    "\n",
    "    ax3.hist(data[\"blue\"][data[\"candidate\"] == \"trump\"].values)\n",
    "    ax3.set_title('Blue in Trump tweeters')\n",
    "\n",
    "    plt.tight_layout()\n",
    "    plt.show()\n",
    "\n",
    "create_plot(tc)"
   ]
  },
  {
   "cell_type": "code",
   "execution_count": 52,
   "metadata": {
    "scrolled": true
   },
   "outputs": [
    {
     "data": {
      "image/png": "[encoded data removed]",
      "text/plain": [
       "<Figure size 504x504 with 2 Axes>"
      ]
     },
     "metadata": {
      "needs_background": "light"
     },
     "output_type": "display_data"
    }
   ],
   "source": [
    "gr = tweets.groupby(\"candidate\").agg([np.mean, np.std])\n",
    "\n",
    "fig, axes = plt.subplots(nrows=2, ncols=1, figsize=(7, 7))\n",
    "ax0, ax1 = axes.flat\n",
    "\n",
    "std = gr[\"polarity\"][\"std\"].iloc[1:]\n",
    "mean = gr[\"polarity\"][\"mean\"].iloc[1:]\n",
    "\n",
    "ax0.bar(range(len(std)), std)\n",
    "ax0.set_xticklabels(std.index, rotation=45)\n",
    "ax0.set_title('Standard deviation of tweet sentiment')\n",
    "\n",
    "ax1.bar(range(len(mean)), mean)\n",
    "ax1.set_xticklabels(mean.index, rotation=45)\n",
    "ax1.set_title('Mean tweet sentiment')\n",
    "\n",
    "plt.tight_layout()\n",
    "plt.show()"
   ]
  },
  {
   "cell_type": "code",
   "execution_count": 53,
   "metadata": {},
   "outputs": [],
   "source": [
    "def tweet_lengths(text):\n",
    "    if len(text) < 100:\n",
    "        return \"short\"\n",
    "    elif 100 <= len(text) <= 135:\n",
    "        return \"medium\"\n",
    "    else:\n",
    "        return \"long\"\n",
    "\n",
    "tweets[\"tweet_length\"] = tweets[\"text\"].apply(tweet_lengths)\n",
    "\n",
    "tl = {}\n",
    "for candidate in [\"clinton\", \"sanders\", \"trump\"]:\n",
    "    tl[candidate] = tweets[\"tweet_length\"][tweets[\"candidate\"] == candidate].value_counts()"
   ]
  },
  {
   "cell_type": "code",
   "execution_count": 67,
   "metadata": {},
   "outputs": [
    {
     "data": {
      "image/png": "[encoded data removed]",
      "text/plain": [
       "<Figure size 432x288 with 1 Axes>"
      ]
     },
     "metadata": {
      "needs_background": "light"
     },
     "output_type": "display_data"
    }
   ],
   "source": [
    "fig, ax = plt.subplots()\n",
    "width = .5\n",
    "x = np.array(range(0, 6, 2))\n",
    "\n",
    "# x here is the x values, next is the y-values where to be drafted at, rest is all just formatting\n",
    "ax.bar(x, tl[\"clinton\"], width, color='g')\n",
    "ax.bar(x + width, tl[\"sanders\"], width, color='b')\n",
    "ax.bar(x + (width * 2), tl[\"trump\"], width, color='r')\n",
    "\n",
    "ax.set_ylabel('# of tweets')\n",
    "ax.set_title('Number of Tweets per candidate by length')\n",
    "ax.set_xticks(x + (width * 1.5))\n",
    "ax.set_xticklabels(('long', 'medium', 'short'))\n",
    "ax.set_xlabel('Tweet length')\n",
    "plt.show()"
   ]
  },
  {
   "cell_type": "code",
   "execution_count": null,
   "metadata": {},
   "outputs": [],
   "source": []
  }
 ],
 "metadata": {
  "kernelspec": {
   "display_name": "Python 3",
   "language": "python",
   "name": "python3"
  },
  "language_info": {
   "codemirror_mode": {
    "name": "ipython",
    "version": 3
   },
   "file_extension": ".py",
   "mimetype": "text/x-python",
   "name": "python",
   "nbconvert_exporter": "python",
   "pygments_lexer": "ipython3",
   "version": "3.8.3"
  }
 },
 "nbformat": 4,
 "nbformat_minor": 4
}
